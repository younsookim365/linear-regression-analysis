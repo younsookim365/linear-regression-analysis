{
 "cells": [
  {
   "cell_type": "code",
   "execution_count": 1,
   "id": "b8443b29",
   "metadata": {},
   "outputs": [],
   "source": [
    "#Import libraries\n",
    "import matplotlib.pyplot as plt\n",
    "import numpy as np\n",
    "import pandas as pd\n",
    "import seaborn as sns\n",
    "from sklearn import linear_model\n",
    "from sklearn.model_selection import train_test_split"
   ]
  },
  {
   "cell_type": "code",
   "execution_count": 2,
   "id": "e8c29207",
   "metadata": {},
   "outputs": [
    {
     "data": {
      "text/html": [
       "<div>\n",
       "<style scoped>\n",
       "    .dataframe tbody tr th:only-of-type {\n",
       "        vertical-align: middle;\n",
       "    }\n",
       "\n",
       "    .dataframe tbody tr th {\n",
       "        vertical-align: top;\n",
       "    }\n",
       "\n",
       "    .dataframe thead th {\n",
       "        text-align: right;\n",
       "    }\n",
       "</style>\n",
       "<table border=\"1\" class=\"dataframe\">\n",
       "  <thead>\n",
       "    <tr style=\"text-align: right;\">\n",
       "      <th></th>\n",
       "      <th>date</th>\n",
       "      <th>co</th>\n",
       "      <th>no</th>\n",
       "      <th>no2</th>\n",
       "      <th>o3</th>\n",
       "      <th>so2</th>\n",
       "      <th>pm2_5</th>\n",
       "      <th>pm10</th>\n",
       "      <th>nh3</th>\n",
       "    </tr>\n",
       "  </thead>\n",
       "  <tbody>\n",
       "    <tr>\n",
       "      <th>0</th>\n",
       "      <td>2020-11-25 01:00:00</td>\n",
       "      <td>2616.88</td>\n",
       "      <td>2.18</td>\n",
       "      <td>70.60</td>\n",
       "      <td>13.59</td>\n",
       "      <td>38.62</td>\n",
       "      <td>364.61</td>\n",
       "      <td>411.73</td>\n",
       "      <td>28.63</td>\n",
       "    </tr>\n",
       "    <tr>\n",
       "      <th>1</th>\n",
       "      <td>2020-11-25 02:00:00</td>\n",
       "      <td>3631.59</td>\n",
       "      <td>23.25</td>\n",
       "      <td>89.11</td>\n",
       "      <td>0.33</td>\n",
       "      <td>54.36</td>\n",
       "      <td>420.96</td>\n",
       "      <td>486.21</td>\n",
       "      <td>41.04</td>\n",
       "    </tr>\n",
       "    <tr>\n",
       "      <th>2</th>\n",
       "      <td>2020-11-25 03:00:00</td>\n",
       "      <td>4539.49</td>\n",
       "      <td>52.75</td>\n",
       "      <td>100.08</td>\n",
       "      <td>1.11</td>\n",
       "      <td>68.67</td>\n",
       "      <td>463.68</td>\n",
       "      <td>541.95</td>\n",
       "      <td>49.14</td>\n",
       "    </tr>\n",
       "    <tr>\n",
       "      <th>3</th>\n",
       "      <td>2020-11-25 04:00:00</td>\n",
       "      <td>4539.49</td>\n",
       "      <td>50.96</td>\n",
       "      <td>111.04</td>\n",
       "      <td>6.44</td>\n",
       "      <td>78.20</td>\n",
       "      <td>454.81</td>\n",
       "      <td>534.00</td>\n",
       "      <td>48.13</td>\n",
       "    </tr>\n",
       "    <tr>\n",
       "      <th>4</th>\n",
       "      <td>2020-11-25 05:00:00</td>\n",
       "      <td>4379.27</td>\n",
       "      <td>42.92</td>\n",
       "      <td>117.90</td>\n",
       "      <td>17.17</td>\n",
       "      <td>87.74</td>\n",
       "      <td>448.14</td>\n",
       "      <td>529.19</td>\n",
       "      <td>46.61</td>\n",
       "    </tr>\n",
       "  </tbody>\n",
       "</table>\n",
       "</div>"
      ],
      "text/plain": [
       "                  date       co     no     no2     o3    so2   pm2_5    pm10  \\\n",
       "0  2020-11-25 01:00:00  2616.88   2.18   70.60  13.59  38.62  364.61  411.73   \n",
       "1  2020-11-25 02:00:00  3631.59  23.25   89.11   0.33  54.36  420.96  486.21   \n",
       "2  2020-11-25 03:00:00  4539.49  52.75  100.08   1.11  68.67  463.68  541.95   \n",
       "3  2020-11-25 04:00:00  4539.49  50.96  111.04   6.44  78.20  454.81  534.00   \n",
       "4  2020-11-25 05:00:00  4379.27  42.92  117.90  17.17  87.74  448.14  529.19   \n",
       "\n",
       "     nh3  \n",
       "0  28.63  \n",
       "1  41.04  \n",
       "2  49.14  \n",
       "3  48.13  \n",
       "4  46.61  "
      ]
     },
     "execution_count": 2,
     "metadata": {},
     "output_type": "execute_result"
    }
   ],
   "source": [
    "#Read the data from csv file and place into a data frame\n",
    "df = pd.read_csv('delhi_aqi.csv')\n",
    "df.head()"
   ]
  },
  {
   "cell_type": "code",
   "execution_count": 3,
   "id": "bfd171db",
   "metadata": {},
   "outputs": [
    {
     "data": {
      "text/html": [
       "<div>\n",
       "<style scoped>\n",
       "    .dataframe tbody tr th:only-of-type {\n",
       "        vertical-align: middle;\n",
       "    }\n",
       "\n",
       "    .dataframe tbody tr th {\n",
       "        vertical-align: top;\n",
       "    }\n",
       "\n",
       "    .dataframe thead th {\n",
       "        text-align: right;\n",
       "    }\n",
       "</style>\n",
       "<table border=\"1\" class=\"dataframe\">\n",
       "  <thead>\n",
       "    <tr style=\"text-align: right;\">\n",
       "      <th></th>\n",
       "      <th>co</th>\n",
       "      <th>no</th>\n",
       "      <th>no2</th>\n",
       "      <th>o3</th>\n",
       "      <th>so2</th>\n",
       "      <th>pm2_5</th>\n",
       "      <th>pm10</th>\n",
       "      <th>nh3</th>\n",
       "    </tr>\n",
       "  </thead>\n",
       "  <tbody>\n",
       "    <tr>\n",
       "      <th>count</th>\n",
       "      <td>18776.000000</td>\n",
       "      <td>18776.000000</td>\n",
       "      <td>18776.000000</td>\n",
       "      <td>18776.000000</td>\n",
       "      <td>18776.000000</td>\n",
       "      <td>18776.000000</td>\n",
       "      <td>18776.000000</td>\n",
       "      <td>18776.000000</td>\n",
       "    </tr>\n",
       "    <tr>\n",
       "      <th>mean</th>\n",
       "      <td>2929.228628</td>\n",
       "      <td>33.660702</td>\n",
       "      <td>66.221299</td>\n",
       "      <td>60.346239</td>\n",
       "      <td>66.693633</td>\n",
       "      <td>238.130309</td>\n",
       "      <td>300.092966</td>\n",
       "      <td>25.109815</td>\n",
       "    </tr>\n",
       "    <tr>\n",
       "      <th>std</th>\n",
       "      <td>2854.523506</td>\n",
       "      <td>62.127118</td>\n",
       "      <td>48.527492</td>\n",
       "      <td>80.464932</td>\n",
       "      <td>49.439191</td>\n",
       "      <td>226.533625</td>\n",
       "      <td>267.165827</td>\n",
       "      <td>26.402108</td>\n",
       "    </tr>\n",
       "    <tr>\n",
       "      <th>min</th>\n",
       "      <td>260.350000</td>\n",
       "      <td>0.000000</td>\n",
       "      <td>4.280000</td>\n",
       "      <td>0.000000</td>\n",
       "      <td>5.250000</td>\n",
       "      <td>11.830000</td>\n",
       "      <td>15.070000</td>\n",
       "      <td>0.000000</td>\n",
       "    </tr>\n",
       "    <tr>\n",
       "      <th>25%</th>\n",
       "      <td>1068.120000</td>\n",
       "      <td>0.680000</td>\n",
       "      <td>33.930000</td>\n",
       "      <td>0.340000</td>\n",
       "      <td>34.810000</td>\n",
       "      <td>84.440000</td>\n",
       "      <td>118.797500</td>\n",
       "      <td>9.630000</td>\n",
       "    </tr>\n",
       "    <tr>\n",
       "      <th>50%</th>\n",
       "      <td>1842.500000</td>\n",
       "      <td>5.250000</td>\n",
       "      <td>54.150000</td>\n",
       "      <td>27.180000</td>\n",
       "      <td>52.930000</td>\n",
       "      <td>157.445000</td>\n",
       "      <td>209.705000</td>\n",
       "      <td>17.480000</td>\n",
       "    </tr>\n",
       "    <tr>\n",
       "      <th>75%</th>\n",
       "      <td>3685.000000</td>\n",
       "      <td>35.760000</td>\n",
       "      <td>83.630000</td>\n",
       "      <td>92.980000</td>\n",
       "      <td>82.020000</td>\n",
       "      <td>313.000000</td>\n",
       "      <td>387.965000</td>\n",
       "      <td>30.400000</td>\n",
       "    </tr>\n",
       "    <tr>\n",
       "      <th>max</th>\n",
       "      <td>21148.680000</td>\n",
       "      <td>500.680000</td>\n",
       "      <td>460.620000</td>\n",
       "      <td>801.090000</td>\n",
       "      <td>579.830000</td>\n",
       "      <td>1708.090000</td>\n",
       "      <td>1969.930000</td>\n",
       "      <td>287.770000</td>\n",
       "    </tr>\n",
       "  </tbody>\n",
       "</table>\n",
       "</div>"
      ],
      "text/plain": [
       "                 co            no           no2            o3           so2  \\\n",
       "count  18776.000000  18776.000000  18776.000000  18776.000000  18776.000000   \n",
       "mean    2929.228628     33.660702     66.221299     60.346239     66.693633   \n",
       "std     2854.523506     62.127118     48.527492     80.464932     49.439191   \n",
       "min      260.350000      0.000000      4.280000      0.000000      5.250000   \n",
       "25%     1068.120000      0.680000     33.930000      0.340000     34.810000   \n",
       "50%     1842.500000      5.250000     54.150000     27.180000     52.930000   \n",
       "75%     3685.000000     35.760000     83.630000     92.980000     82.020000   \n",
       "max    21148.680000    500.680000    460.620000    801.090000    579.830000   \n",
       "\n",
       "              pm2_5          pm10           nh3  \n",
       "count  18776.000000  18776.000000  18776.000000  \n",
       "mean     238.130309    300.092966     25.109815  \n",
       "std      226.533625    267.165827     26.402108  \n",
       "min       11.830000     15.070000      0.000000  \n",
       "25%       84.440000    118.797500      9.630000  \n",
       "50%      157.445000    209.705000     17.480000  \n",
       "75%      313.000000    387.965000     30.400000  \n",
       "max     1708.090000   1969.930000    287.770000  "
      ]
     },
     "execution_count": 3,
     "metadata": {},
     "output_type": "execute_result"
    }
   ],
   "source": [
    "#Generate data statistics\n",
    "df.describe()"
   ]
  },
  {
   "cell_type": "code",
   "execution_count": 4,
   "id": "e9d55bc2",
   "metadata": {},
   "outputs": [
    {
     "data": {
      "text/plain": [
       "array([['2020-11-25 01:00:00', 2616.88, 2.18, ..., 364.61, 411.73, 28.63],\n",
       "       ['2020-11-25 02:00:00', 3631.59, 23.25, ..., 420.96, 486.21,\n",
       "        41.04],\n",
       "       ['2020-11-25 03:00:00', 4539.49, 52.75, ..., 463.68, 541.95,\n",
       "        49.14],\n",
       "       ...,\n",
       "       ['2023-01-24 06:00:00', 1922.61, 8.16, ..., 242.49, 296.07, 12.54],\n",
       "       ['2023-01-24 07:00:00', 1361.85, 9.05, ..., 165.67, 191.82, 7.47],\n",
       "       ['2023-01-24 08:00:00', 1134.87, 8.61, ..., 123.76, 140.26, 5.51]],\n",
       "      dtype=object)"
      ]
     },
     "execution_count": 4,
     "metadata": {},
     "output_type": "execute_result"
    }
   ],
   "source": [
    "#Return a Numpy representation of the data frame\n",
    "df.values"
   ]
  },
  {
   "cell_type": "code",
   "execution_count": 5,
   "id": "7baa6f92",
   "metadata": {},
   "outputs": [
    {
     "data": {
      "text/plain": [
       "<AxesSubplot:ylabel='Frequency'>"
      ]
     },
     "execution_count": 5,
     "metadata": {},
     "output_type": "execute_result"
    },
    {
     "data": {
      "image/png": "[encoded data removed]",
      "text/plain": [
       "<Figure size 640x480 with 1 Axes>"
      ]
     },
     "metadata": {},
     "output_type": "display_data"
    }
   ],
   "source": [
    "#Plot a histogram of dependent variable PM 2.5 concentration\n",
    "plt.figure()\n",
    "df['pm2_5'].plot(kind=\"hist\") "
   ]
  },
  {
   "cell_type": "code",
   "execution_count": 6,
   "id": "0581eee9",
   "metadata": {},
   "outputs": [
    {
     "name": "stderr",
     "output_type": "stream",
     "text": [
      "C:\\Users\\yskk9\\AppData\\Local\\Temp\\ipykernel_25684\\1946253578.py:4: FutureWarning: In a future version of pandas all arguments of DataFrame.drop except for the argument 'labels' will be keyword-only.\n",
      "  x = df.drop(\"pm2_5\",1)\n"
     ]
    },
    {
     "data": {
      "text/html": [
       "<div>\n",
       "<style scoped>\n",
       "    .dataframe tbody tr th:only-of-type {\n",
       "        vertical-align: middle;\n",
       "    }\n",
       "\n",
       "    .dataframe tbody tr th {\n",
       "        vertical-align: top;\n",
       "    }\n",
       "\n",
       "    .dataframe thead th {\n",
       "        text-align: right;\n",
       "    }\n",
       "</style>\n",
       "<table border=\"1\" class=\"dataframe\">\n",
       "  <thead>\n",
       "    <tr style=\"text-align: right;\">\n",
       "      <th></th>\n",
       "      <th>co</th>\n",
       "      <th>no</th>\n",
       "      <th>no2</th>\n",
       "      <th>o3</th>\n",
       "      <th>so2</th>\n",
       "      <th>pm2_5</th>\n",
       "      <th>pm10</th>\n",
       "      <th>nh3</th>\n",
       "    </tr>\n",
       "  </thead>\n",
       "  <tbody>\n",
       "    <tr>\n",
       "      <th>0</th>\n",
       "      <td>2616.88</td>\n",
       "      <td>2.18</td>\n",
       "      <td>70.60</td>\n",
       "      <td>13.59</td>\n",
       "      <td>38.62</td>\n",
       "      <td>364.61</td>\n",
       "      <td>411.73</td>\n",
       "      <td>28.63</td>\n",
       "    </tr>\n",
       "    <tr>\n",
       "      <th>1</th>\n",
       "      <td>3631.59</td>\n",
       "      <td>23.25</td>\n",
       "      <td>89.11</td>\n",
       "      <td>0.33</td>\n",
       "      <td>54.36</td>\n",
       "      <td>420.96</td>\n",
       "      <td>486.21</td>\n",
       "      <td>41.04</td>\n",
       "    </tr>\n",
       "    <tr>\n",
       "      <th>2</th>\n",
       "      <td>4539.49</td>\n",
       "      <td>52.75</td>\n",
       "      <td>100.08</td>\n",
       "      <td>1.11</td>\n",
       "      <td>68.67</td>\n",
       "      <td>463.68</td>\n",
       "      <td>541.95</td>\n",
       "      <td>49.14</td>\n",
       "    </tr>\n",
       "    <tr>\n",
       "      <th>3</th>\n",
       "      <td>4539.49</td>\n",
       "      <td>50.96</td>\n",
       "      <td>111.04</td>\n",
       "      <td>6.44</td>\n",
       "      <td>78.20</td>\n",
       "      <td>454.81</td>\n",
       "      <td>534.00</td>\n",
       "      <td>48.13</td>\n",
       "    </tr>\n",
       "    <tr>\n",
       "      <th>4</th>\n",
       "      <td>4379.27</td>\n",
       "      <td>42.92</td>\n",
       "      <td>117.90</td>\n",
       "      <td>17.17</td>\n",
       "      <td>87.74</td>\n",
       "      <td>448.14</td>\n",
       "      <td>529.19</td>\n",
       "      <td>46.61</td>\n",
       "    </tr>\n",
       "  </tbody>\n",
       "</table>\n",
       "</div>"
      ],
      "text/plain": [
       "        co     no     no2     o3    so2   pm2_5    pm10    nh3\n",
       "0  2616.88   2.18   70.60  13.59  38.62  364.61  411.73  28.63\n",
       "1  3631.59  23.25   89.11   0.33  54.36  420.96  486.21  41.04\n",
       "2  4539.49  52.75  100.08   1.11  68.67  463.68  541.95  49.14\n",
       "3  4539.49  50.96  111.04   6.44  78.20  454.81  534.00  48.13\n",
       "4  4379.27  42.92  117.90  17.17  87.74  448.14  529.19  46.61"
      ]
     },
     "execution_count": 6,
     "metadata": {},
     "output_type": "execute_result"
    }
   ],
   "source": [
    "#Remove unecessary field\n",
    "#y is the dependent variable\n",
    "df = df.drop([\"date\"], axis=1)\n",
    "x = df.drop(\"pm2_5\",1)\n",
    "y = df[\"pm2_5\"]\n",
    "df.head()"
   ]
  },
  {
   "cell_type": "code",
   "execution_count": 7,
   "id": "5ef9d3f1",
   "metadata": {},
   "outputs": [
    {
     "data": {
      "image/png": "[encoded data removed]",
      "text/plain": [
       "<Figure size 640x480 with 2 Axes>"
      ]
     },
     "metadata": {},
     "output_type": "display_data"
    }
   ],
   "source": [
    "#Using Pearson Correlation\n",
    "plt.figure()\n",
    "crl = df.corr()\n",
    "sns.heatmap(crl, annot=True, cmap=plt.cm.PuBuGn)\n",
    "plt.show()"
   ]
  },
  {
   "cell_type": "code",
   "execution_count": 8,
   "id": "94e5d391",
   "metadata": {},
   "outputs": [
    {
     "data": {
      "text/plain": [
       "co       0.936830\n",
       "no       0.816441\n",
       "pm2_5    1.000000\n",
       "pm10     0.989291\n",
       "Name: pm2_5, dtype: float64"
      ]
     },
     "execution_count": 8,
     "metadata": {},
     "output_type": "execute_result"
    }
   ],
   "source": [
    "#Identify independent variables with high positive correlation to dependent variable (> 0.75)\n",
    "crl_aim = abs(crl[\"pm2_5\"])\n",
    "positive_crl_aim = crl_aim[crl_aim > (0.75)]\n",
    "positive_crl_aim"
   ]
  },
  {
   "cell_type": "code",
   "execution_count": 9,
   "id": "4183cca8",
   "metadata": {},
   "outputs": [
    {
     "name": "stdout",
     "output_type": "stream",
     "text": [
      "            co        no      pm10\n",
      "co    1.000000  0.914129  0.950218\n",
      "no    0.914129  1.000000  0.829910\n",
      "pm10  0.950218  0.829910  1.000000\n"
     ]
    }
   ],
   "source": [
    "#Determine correlation between high positive correlation independent variables\n",
    "print(df[[\"co\",\"no\",\"pm10\"]].corr())"
   ]
  },
  {
   "cell_type": "code",
   "execution_count": 10,
   "id": "0f62832e",
   "metadata": {},
   "outputs": [
    {
     "data": {
      "text/html": [
       "<div>\n",
       "<style scoped>\n",
       "    .dataframe tbody tr th:only-of-type {\n",
       "        vertical-align: middle;\n",
       "    }\n",
       "\n",
       "    .dataframe tbody tr th {\n",
       "        vertical-align: top;\n",
       "    }\n",
       "\n",
       "    .dataframe thead th {\n",
       "        text-align: right;\n",
       "    }\n",
       "</style>\n",
       "<table border=\"1\" class=\"dataframe\">\n",
       "  <thead>\n",
       "    <tr style=\"text-align: right;\">\n",
       "      <th></th>\n",
       "      <th>co</th>\n",
       "      <th>no</th>\n",
       "      <th>pm10</th>\n",
       "    </tr>\n",
       "  </thead>\n",
       "  <tbody>\n",
       "    <tr>\n",
       "      <th>0</th>\n",
       "      <td>2616.88</td>\n",
       "      <td>2.18</td>\n",
       "      <td>411.73</td>\n",
       "    </tr>\n",
       "    <tr>\n",
       "      <th>1</th>\n",
       "      <td>3631.59</td>\n",
       "      <td>23.25</td>\n",
       "      <td>486.21</td>\n",
       "    </tr>\n",
       "    <tr>\n",
       "      <th>2</th>\n",
       "      <td>4539.49</td>\n",
       "      <td>52.75</td>\n",
       "      <td>541.95</td>\n",
       "    </tr>\n",
       "    <tr>\n",
       "      <th>3</th>\n",
       "      <td>4539.49</td>\n",
       "      <td>50.96</td>\n",
       "      <td>534.00</td>\n",
       "    </tr>\n",
       "    <tr>\n",
       "      <th>4</th>\n",
       "      <td>4379.27</td>\n",
       "      <td>42.92</td>\n",
       "      <td>529.19</td>\n",
       "    </tr>\n",
       "  </tbody>\n",
       "</table>\n",
       "</div>"
      ],
      "text/plain": [
       "        co     no    pm10\n",
       "0  2616.88   2.18  411.73\n",
       "1  3631.59  23.25  486.21\n",
       "2  4539.49  52.75  541.95\n",
       "3  4539.49  50.96  534.00\n",
       "4  4379.27  42.92  529.19"
      ]
     },
     "execution_count": 10,
     "metadata": {},
     "output_type": "execute_result"
    }
   ],
   "source": [
    "#Drop low correlation variable columns\n",
    "df = df.drop([\"no2\",\"o3\",\"so2\",\"pm2_5\",\"nh3\"], axis=1)\n",
    "df.head()"
   ]
  },
  {
   "cell_type": "code",
   "execution_count": 11,
   "id": "9e84771e",
   "metadata": {},
   "outputs": [
    {
     "name": "stdout",
     "output_type": "stream",
     "text": [
      "(13143, 3) (13143,)\n",
      "(5633, 3) (5633,)\n"
     ]
    }
   ],
   "source": [
    "#Create test and train variables \n",
    "x_train, x_test, y_train, y_test = train_test_split(df, y, test_size=0.3)\n",
    "print(x_train.shape, y_train.shape)\n",
    "print(x_test.shape, y_test.shape)"
   ]
  },
  {
   "cell_type": "code",
   "execution_count": 12,
   "id": "243e29d3",
   "metadata": {},
   "outputs": [],
   "source": [
    "#Fit linear regression model\n",
    "lrm = linear_model.LinearRegression()\n",
    "lrm_model = lrm.fit(x_train, y_train)\n",
    "lrm_predictions = lrm.predict(x_test)"
   ]
  },
  {
   "cell_type": "code",
   "execution_count": 13,
   "id": "e7f5d66a",
   "metadata": {},
   "outputs": [
    {
     "data": {
      "text/plain": [
       "array([190.15715239, 892.30171371, 122.01018207, 319.55237141,\n",
       "       236.90019557, 194.15140883, 221.49628962, 709.1543873 ,\n",
       "       635.53505474, 104.3228403 ])"
      ]
     },
     "execution_count": 13,
     "metadata": {},
     "output_type": "execute_result"
    }
   ],
   "source": [
    "#First 10 predictions to give an idea if they are accurate - look at the histogram above\n",
    "lrm_predictions[0:10]"
   ]
  },
  {
   "cell_type": "code",
   "execution_count": 14,
   "id": "140ff825",
   "metadata": {},
   "outputs": [
    {
     "data": {
      "text/plain": [
       "Text(0, 0.5, 'Predicted pm2_5 Values')"
      ]
     },
     "execution_count": 14,
     "metadata": {},
     "output_type": "execute_result"
    },
    {
     "data": {
      "image/png": "[encoded data removed]",
      "text/plain": [
       "<Figure size 640x480 with 1 Axes>"
      ]
     },
     "metadata": {},
     "output_type": "display_data"
    }
   ],
   "source": [
    "#Plot predictions with scatter plot \n",
    "plt.scatter(y_test, lrm_predictions)\n",
    "plt.title(\"Predicted vs Actual Values\")\n",
    "plt.xlabel('Actual pm2_5 Values')\n",
    "plt.ylabel('Predicted pm2_5 Values')"
   ]
  },
  {
   "cell_type": "code",
   "execution_count": 15,
   "id": "f0b1e89d",
   "metadata": {},
   "outputs": [
    {
     "name": "stdout",
     "output_type": "stream",
     "text": [
      "Score: 0.9795144581053974\n"
     ]
    }
   ],
   "source": [
    "#Print score\n",
    "print('Score:', lrm_model.score(x_test, y_test))"
   ]
  },
  {
   "cell_type": "code",
   "execution_count": 16,
   "id": "df956dbd",
   "metadata": {},
   "outputs": [
    {
     "name": "stdout",
     "output_type": "stream",
     "text": [
      "[190.15715239 892.30171371 122.01018207 ... 463.19969404 197.64895315\n",
      " 441.24383741]\n"
     ]
    }
   ],
   "source": [
    "#Print predictions\n",
    "print(lrm_predictions)"
   ]
  },
  {
   "cell_type": "code",
   "execution_count": 17,
   "id": "750dee94",
   "metadata": {},
   "outputs": [
    {
     "data": {
      "text/html": [
       "<div>\n",
       "<style scoped>\n",
       "    .dataframe tbody tr th:only-of-type {\n",
       "        vertical-align: middle;\n",
       "    }\n",
       "\n",
       "    .dataframe tbody tr th {\n",
       "        vertical-align: top;\n",
       "    }\n",
       "\n",
       "    .dataframe thead th {\n",
       "        text-align: right;\n",
       "    }\n",
       "</style>\n",
       "<table border=\"1\" class=\"dataframe\">\n",
       "  <thead>\n",
       "    <tr style=\"text-align: right;\">\n",
       "      <th></th>\n",
       "      <th>co</th>\n",
       "      <th>no</th>\n",
       "      <th>pm10</th>\n",
       "      <th>pm2_5 Actual value</th>\n",
       "      <th>pm2_5 Predicted value</th>\n",
       "    </tr>\n",
       "  </thead>\n",
       "  <tbody>\n",
       "    <tr>\n",
       "      <th>16585</th>\n",
       "      <td>1869.20</td>\n",
       "      <td>6.26</td>\n",
       "      <td>241.52</td>\n",
       "      <td>191.61</td>\n",
       "      <td>190.157152</td>\n",
       "    </tr>\n",
       "    <tr>\n",
       "      <th>677</th>\n",
       "      <td>10360.72</td>\n",
       "      <td>153.78</td>\n",
       "      <td>1077.96</td>\n",
       "      <td>931.24</td>\n",
       "      <td>892.301714</td>\n",
       "    </tr>\n",
       "    <tr>\n",
       "      <th>17300</th>\n",
       "      <td>1335.14</td>\n",
       "      <td>0.00</td>\n",
       "      <td>161.19</td>\n",
       "      <td>139.68</td>\n",
       "      <td>122.010182</td>\n",
       "    </tr>\n",
       "    <tr>\n",
       "      <th>2361</th>\n",
       "      <td>2136.23</td>\n",
       "      <td>2.29</td>\n",
       "      <td>391.84</td>\n",
       "      <td>344.54</td>\n",
       "      <td>319.552371</td>\n",
       "    </tr>\n",
       "    <tr>\n",
       "      <th>1662</th>\n",
       "      <td>1428.60</td>\n",
       "      <td>6.82</td>\n",
       "      <td>294.19</td>\n",
       "      <td>267.35</td>\n",
       "      <td>236.900196</td>\n",
       "    </tr>\n",
       "  </tbody>\n",
       "</table>\n",
       "</div>"
      ],
      "text/plain": [
       "             co      no     pm10  pm2_5 Actual value  pm2_5 Predicted value\n",
       "16585   1869.20    6.26   241.52              191.61             190.157152\n",
       "677    10360.72  153.78  1077.96              931.24             892.301714\n",
       "17300   1335.14    0.00   161.19              139.68             122.010182\n",
       "2361    2136.23    2.29   391.84              344.54             319.552371\n",
       "1662    1428.60    6.82   294.19              267.35             236.900196"
      ]
     },
     "execution_count": 17,
     "metadata": {},
     "output_type": "execute_result"
    }
   ],
   "source": [
    "#Print the actual value, predicted value and other independent variables with high correlation\n",
    "df2 = pd.DataFrame(x_test)\n",
    "df2['pm2_5 Actual value'] = y_test\n",
    "df2['pm2_5 Predicted value'] = lrm_predictions\n",
    "df2.head()"
   ]
  },
  {
   "cell_type": "code",
   "execution_count": 18,
   "id": "c584aac3",
   "metadata": {},
   "outputs": [],
   "source": [
    "#Save this data as another .csv file\n",
    "df2.to_csv('delhi_aqi - results.csv')"
   ]
  },
  {
   "cell_type": "code",
   "execution_count": null,
   "id": "367c15f4",
   "metadata": {},
   "outputs": [],
   "source": []
  }
 ],
 "metadata": {
  "kernelspec": {
   "display_name": "Python 3 (ipykernel)",
   "language": "python",
   "name": "python3"
  },
  "language_info": {
   "codemirror_mode": {
    "name": "ipython",
    "version": 3
   },
   "file_extension": ".py",
   "mimetype": "text/x-python",
   "name": "python",
   "nbconvert_exporter": "python",
   "pygments_lexer": "ipython3",
   "version": "3.9.13"
  }
 },
 "nbformat": 4,
 "nbformat_minor": 5
}
